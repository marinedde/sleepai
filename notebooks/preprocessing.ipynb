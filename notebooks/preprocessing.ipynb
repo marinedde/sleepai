{
 "cells": [
  {
   "cell_type": "code",
   "execution_count": 4,
   "id": "85c050ab",
   "metadata": {},
   "outputs": [
    {
     "name": "stdout",
     "output_type": "stream",
     "text": [
      " Imports OK!\n",
      " Dossier actuel: /Users/marinedeldicque/Documents/sleepai/notebooks\n"
     ]
    }
   ],
   "source": [
    "# Preprocessing du dataset Sleep-EDF\n",
    "import numpy as np\n",
    "import pandas as pd\n",
    "import matplotlib.pyplot as plt\n",
    "import seaborn as sns\n",
    "from pathlib import Path\n",
    "import pyedflib\n",
    "from scipy import signal\n",
    "from sklearn.model_selection import train_test_split\n",
    "from sklearn.preprocessing import StandardScaler\n",
    "import pickle\n",
    "import warnings\n",
    "warnings.filterwarnings('ignore')\n",
    "\n",
    "# Config\n",
    "plt.style.use('seaborn-v0_8-darkgrid')\n",
    "%matplotlib inline\n",
    "\n",
    "print(\" Imports OK!\")\n",
    "print(f\" Dossier actuel: {Path.cwd()}\")"
   ]
  },
  {
   "cell_type": "code",
   "execution_count": 5,
   "id": "3cbfd1f0",
   "metadata": {},
   "outputs": [
    {
     "name": "stdout",
     "output_type": "stream",
     "text": [
      " Paramètres configurés:\n",
      "   sampling_rate: 100\n",
      "   epoch_duration: 30\n",
      "   lowcut: 0.3\n",
      "   highcut: 35.0\n",
      "   filter_order: 5\n",
      "   test_size: 0.15\n",
      "   val_size: 0.176\n"
     ]
    }
   ],
   "source": [
    "# Paramètres du preprocessing\n",
    "PARAMS = {\n",
    "    'sampling_rate': 100,      # Hz\n",
    "    'epoch_duration': 30,       # secondes\n",
    "    'lowcut': 0.3,             # Hz - filtre passe-haut\n",
    "    'highcut': 35.0,           # Hz - filtre passe-bas\n",
    "    'filter_order': 5,\n",
    "    'test_size': 0.15,\n",
    "    'val_size': 0.176          # 15% du total (15/85)\n",
    "}\n",
    "\n",
    "# Mapping des stades\n",
    "STAGE_MAPPING = {\n",
    "    'Sleep stage W': 0,  # Wake\n",
    "    'Sleep stage 1': 1,  # N1\n",
    "    'Sleep stage 2': 2,  # N2\n",
    "    'Sleep stage 3': 3,  # N3\n",
    "    'Sleep stage 4': 3,  # N4 → N3\n",
    "    'Sleep stage R': 4,  # REM\n",
    "    'Sleep stage ?': -1, # Exclure\n",
    "    'Movement time': -1  # Exclure\n",
    "}\n",
    "\n",
    "STAGE_NAMES = ['Wake', 'N1', 'N2', 'N3', 'REM']\n",
    "\n",
    "print(\" Paramètres configurés:\")\n",
    "for key, val in PARAMS.items():\n",
    "    print(f\"   {key}: {val}\")"
   ]
  },
  {
   "cell_type": "code",
   "execution_count": 6,
   "id": "b41ab89a",
   "metadata": {},
   "outputs": [
    {
     "name": "stdout",
     "output_type": "stream",
     "text": [
      " Fonctions de filtrage définies et testées\n"
     ]
    }
   ],
   "source": [
    "# Fonctions de traitement du signal\n",
    "def butter_bandpass(lowcut, highcut, fs, order=5):\n",
    "    \"\"\"Crée un filtre passe-bande Butterworth\"\"\"\n",
    "    nyquist = 0.5 * fs\n",
    "    low = lowcut / nyquist\n",
    "    high = highcut / nyquist\n",
    "    b, a = signal.butter(order, [low, high], btype='band')\n",
    "    return b, a\n",
    "\n",
    "def apply_bandpass_filter(data, lowcut, highcut, fs, order=5):\n",
    "    \"\"\"Applique un filtre passe-bande\"\"\"\n",
    "    b, a = butter_bandpass(lowcut, highcut, fs, order)\n",
    "    filtered = signal.filtfilt(b, a, data)\n",
    "    return filtered\n",
    "\n",
    "# Test du filtre\n",
    "test_signal = np.random.randn(3000)  # 30s à 100Hz\n",
    "filtered_test = apply_bandpass_filter(test_signal, 0.3, 35, 100)\n",
    "\n",
    "print(\" Fonctions de filtrage définies et testées\")"
   ]
  },
  {
   "cell_type": "code",
   "execution_count": 7,
   "id": "b605146f",
   "metadata": {},
   "outputs": [
    {
     "name": "stdout",
     "output_type": "stream",
     "text": [
      " 28 paires complètes chargées\n"
     ]
    }
   ],
   "source": [
    "# Charger tous les enregistrements\n",
    "data_dir = Path('../data/raw')\n",
    "\n",
    "# Fonction pour extraire ID\n",
    "def extract_base_id(filename):\n",
    "    return filename.stem[:6]\n",
    "\n",
    "# Lister les fichiers\n",
    "psg_files = sorted(data_dir.glob(\"*-PSG.edf\"))\n",
    "hypno_files = sorted(data_dir.glob(\"*-Hypnogram.edf\"))\n",
    "\n",
    "psg_base_ids = {extract_base_id(f): f for f in psg_files}\n",
    "hypno_base_ids = {extract_base_id(f): f for f in hypno_files}\n",
    "\n",
    "complete_ids = sorted(set(psg_base_ids.keys()) & set(hypno_base_ids.keys()))\n",
    "\n",
    "complete_pairs = {\n",
    "    base_id: {\n",
    "        'psg': psg_base_ids[base_id],\n",
    "        'hypno': hypno_base_ids[base_id]\n",
    "    }\n",
    "    for base_id in complete_ids\n",
    "}\n",
    "\n",
    "print(f\" {len(complete_ids)} paires complètes chargées\")"
   ]
  },
  {
   "cell_type": "code",
   "execution_count": 8,
   "id": "1976775d",
   "metadata": {},
   "outputs": [
    {
     "name": "stdout",
     "output_type": "stream",
     "text": [
      " Fonction de traitement définie\n"
     ]
    }
   ],
   "source": [
    "def process_single_recording(base_id, pair_dict):\n",
    "    \"\"\"\n",
    "    Traite un enregistrement complet : PSG + Hypnogramme\n",
    "    \n",
    "    Returns:\n",
    "        epochs: array (n_epochs, 3000) - époques de 30s filtrées\n",
    "        labels: array (n_epochs,) - labels des stades\n",
    "    \"\"\"\n",
    "    psg_file = pair_dict['psg']\n",
    "    hypno_file = pair_dict['hypno']\n",
    "    \n",
    "    # 1. Charger PSG\n",
    "    with pyedflib.EdfReader(str(psg_file)) as f:\n",
    "        eeg_signal = f.readSignal(0)  # Canal 0: Fpz-Cz\n",
    "        psg_duration = f.getFileDuration()\n",
    "    \n",
    "    # 2. Filtrer le signal\n",
    "    filtered_signal = apply_bandpass_filter(\n",
    "        eeg_signal, \n",
    "        PARAMS['lowcut'], \n",
    "        PARAMS['highcut'], \n",
    "        PARAMS['sampling_rate'],\n",
    "        PARAMS['filter_order']\n",
    "    )\n",
    "    \n",
    "    # 3. Charger annotations\n",
    "    with pyedflib.EdfReader(str(hypno_file)) as f:\n",
    "        annotations = f.readAnnotations()\n",
    "    \n",
    "    # 4. Créer époques et labels\n",
    "    epochs_list = []\n",
    "    labels_list = []\n",
    "    \n",
    "    epoch_samples = PARAMS['sampling_rate'] * PARAMS['epoch_duration']\n",
    "    \n",
    "    for onset, duration, description in zip(*annotations):\n",
    "        # Mapper le stade\n",
    "        stage = STAGE_MAPPING.get(description, -1)\n",
    "        \n",
    "        # Exclure les stades inconnus\n",
    "        if stage == -1:\n",
    "            continue\n",
    "        \n",
    "        # Vérifier que l'annotation est dans le signal\n",
    "        if onset + duration > psg_duration:\n",
    "            continue\n",
    "        \n",
    "        # Extraire l'époque\n",
    "        start_idx = int(onset * PARAMS['sampling_rate'])\n",
    "        end_idx = int(start_idx + epoch_samples)\n",
    "        \n",
    "        # Vérifier la longueur\n",
    "        if end_idx > len(filtered_signal):\n",
    "            continue\n",
    "        \n",
    "        epoch = filtered_signal[start_idx:end_idx]\n",
    "        \n",
    "        # Vérifier que c'est exactement 3000 samples\n",
    "        if len(epoch) == epoch_samples:\n",
    "            epochs_list.append(epoch)\n",
    "            labels_list.append(stage)\n",
    "    \n",
    "    return np.array(epochs_list), np.array(labels_list)\n",
    "\n",
    "print(\" Fonction de traitement définie\")"
   ]
  },
  {
   "cell_type": "code",
   "execution_count": 9,
   "id": "1b75b6c2",
   "metadata": {},
   "outputs": [
    {
     "name": "stdout",
     "output_type": "stream",
     "text": [
      "🔄 Traitement de tous les enregistrements...\n",
      "------------------------------------------------------------\n",
      "✅  1/28 SC4001:  153 époques\n",
      "✅  2/28 SC4002:  150 époques\n",
      "✅  3/28 SC4011:  125 époques\n",
      "✅  4/28 SC4012:  170 époques\n",
      "✅  5/28 SC4021:  160 époques\n",
      "✅  6/28 SC4022:  177 époques\n",
      "✅  7/28 SC4031:  118 époques\n",
      "✅  8/28 SC4041:  159 époques\n",
      "✅  9/28 SC4042:  173 époques\n",
      "✅ 10/28 SC4051:  129 époques\n",
      "✅ 11/28 SC4052:  136 époques\n",
      "✅ 12/28 SC4061:   77 époques\n",
      "✅ 13/28 SC4062:   97 époques\n",
      "✅ 14/28 SC4071:  115 époques\n",
      "✅ 15/28 SC4072:  178 époques\n",
      "✅ 16/28 SC4081:  141 époques\n",
      "✅ 17/28 SC4082:  155 époques\n",
      "✅ 18/28 SC4091:  137 époques\n",
      "✅ 19/28 SC4092:  103 époques\n",
      "✅ 20/28 SC4101:   61 époques\n",
      "✅ 21/28 SC4102:  116 époques\n",
      "✅ 22/28 SC4111:  124 époques\n",
      "✅ 23/28 SC4112:  125 époques\n",
      "✅ 24/28 SC4121:  127 époques\n",
      "✅ 25/28 SC4131:  146 époques\n",
      "✅ 26/28 SC4141:  121 époques\n",
      "✅ 27/28 SC4142:  123 époques\n",
      "✅ 28/28 SC4151:   94 époques\n",
      "\n",
      "============================================================\n",
      " Traitement terminé!\n",
      " Dataset complet:\n",
      "   Shape X: (3690, 3000)\n",
      "   Shape y: (3690,)\n",
      "   Mémoire: 0.09 GB\n"
     ]
    }
   ],
   "source": [
    "# Traiter tous les enregistrements\n",
    "print(\"🔄 Traitement de tous les enregistrements...\")\n",
    "print(\"-\" * 60)\n",
    "\n",
    "all_epochs = []\n",
    "all_labels = []\n",
    "\n",
    "for i, base_id in enumerate(complete_ids, 1):\n",
    "    try:\n",
    "        epochs, labels = process_single_recording(base_id, complete_pairs[base_id])\n",
    "        \n",
    "        all_epochs.append(epochs)\n",
    "        all_labels.append(labels)\n",
    "        \n",
    "        print(f\"✅ {i:2d}/{len(complete_ids)} {base_id}: {len(epochs):4d} époques\")\n",
    "        \n",
    "    except Exception as e:\n",
    "        print(f\" {i:2d}/{len(complete_ids)} {base_id}: Erreur - {e}\")\n",
    "\n",
    "# Concaténer\n",
    "X = np.vstack(all_epochs)\n",
    "y = np.concatenate(all_labels)\n",
    "\n",
    "print(\"\\n\" + \"=\" * 60)\n",
    "print(f\" Traitement terminé!\")\n",
    "print(f\" Dataset complet:\")\n",
    "print(f\"   Shape X: {X.shape}\")\n",
    "print(f\"   Shape y: {y.shape}\")\n",
    "print(f\"   Mémoire: {X.nbytes / 1e9:.2f} GB\")"
   ]
  },
  {
   "cell_type": "code",
   "execution_count": 10,
   "id": "2b5d4470",
   "metadata": {},
   "outputs": [
    {
     "name": "stdout",
     "output_type": "stream",
     "text": [
      "\n",
      " Distribution des classes AVANT équilibrage:\n",
      "------------------------------------------------------------\n",
      "   Wake    :    382 ( 10.4%)\n",
      "   N1      :    750 ( 20.3%)\n",
      "   N2      :   1152 ( 31.2%)\n",
      "   N3      :   1102 ( 29.9%)\n",
      "   REM     :    304 (  8.2%)\n"
     ]
    },
    {
     "data": {
      "image/png": "[encoded data removed]",
      "text/plain": [
       "<Figure size 1000x600 with 1 Axes>"
      ]
     },
     "metadata": {},
     "output_type": "display_data"
    }
   ],
   "source": [
    "# Vérifier la distribution\n",
    "print(\"\\n Distribution des classes AVANT équilibrage:\")\n",
    "print(\"-\" * 60)\n",
    "\n",
    "unique, counts = np.unique(y, return_counts=True)\n",
    "for stage_id, count in zip(unique, counts):\n",
    "    percentage = (count / len(y)) * 100\n",
    "    print(f\"   {STAGE_NAMES[stage_id]:8s}: {count:6d} ({percentage:5.1f}%)\")\n",
    "\n",
    "# Visualiser\n",
    "fig, ax = plt.subplots(figsize=(10, 6))\n",
    "ax.bar([STAGE_NAMES[i] for i in unique], counts, \n",
    "       color=['#E63946', '#F77F00', '#06D6A0', '#118AB2', '#073B4C'])\n",
    "ax.set_title('Distribution des classes', fontsize=14, fontweight='bold')\n",
    "ax.set_ylabel('Nombre d\\'époques')\n",
    "plt.xticks(rotation=45)\n",
    "plt.tight_layout()\n",
    "plt.show()"
   ]
  },
  {
   "cell_type": "code",
   "execution_count": 11,
   "id": "3eb3159d",
   "metadata": {},
   "outputs": [
    {
     "name": "stdout",
     "output_type": "stream",
     "text": [
      "\n",
      " Normalisation (z-score par époque)...\n",
      " Normalisation terminée\n",
      "   Mean global: 0.000000\n",
      "   Std global: 1.000\n"
     ]
    }
   ],
   "source": [
    "# Normaliser chaque époque individuellement (z-score)\n",
    "print(\"\\n Normalisation (z-score par époque)...\")\n",
    "\n",
    "X_normalized = np.zeros_like(X)\n",
    "\n",
    "for i in range(len(X)):\n",
    "    mean = X[i].mean()\n",
    "    std = X[i].std()\n",
    "    if std > 0:\n",
    "        X_normalized[i] = (X[i] - mean) / std\n",
    "    else:\n",
    "        X_normalized[i] = X[i] - mean\n",
    "\n",
    "print(f\" Normalisation terminée\")\n",
    "print(f\"   Mean global: {X_normalized.mean():.6f}\")\n",
    "print(f\"   Std global: {X_normalized.std():.3f}\")"
   ]
  },
  {
   "cell_type": "code",
   "execution_count": 13,
   "id": "ddcbbed6",
   "metadata": {},
   "outputs": [
    {
     "name": "stdout",
     "output_type": "stream",
     "text": [
      "\n",
      "  Séparation Train / Val / Test...\n",
      " Splits créés:\n",
      "   Train: (2584, 3000) (70.0%)\n",
      "   Val:   (552, 3000) (15.0%)\n",
      "   Test:  (554, 3000) (15.0%)\n",
      "\n",
      "   Train:\n",
      "      Wake: 268\n",
      "      N1: 525\n",
      "      N2: 807\n",
      "      N3: 772\n",
      "      REM: 212\n",
      "\n",
      "   Val:\n",
      "      Wake: 57\n",
      "      N1: 112\n",
      "      N2: 172\n",
      "      N3: 165\n",
      "      REM: 46\n",
      "\n",
      "   Test:\n",
      "      Wake: 57\n",
      "      N1: 113\n",
      "      N2: 173\n",
      "      N3: 165\n",
      "      REM: 46\n"
     ]
    }
   ],
   "source": [
    "# Split stratifié\n",
    "print(\"\\n  Séparation Train / Val / Test...\")\n",
    "\n",
    "# D'abord train+val / test\n",
    "X_temp, X_test, y_temp, y_test = train_test_split(\n",
    "    X_normalized, y,\n",
    "    test_size=PARAMS['test_size'],\n",
    "    random_state=42,\n",
    "    stratify=y\n",
    ")\n",
    "\n",
    "# Puis train / val\n",
    "X_train, X_val, y_train, y_val = train_test_split(\n",
    "    X_temp, y_temp,\n",
    "    test_size=PARAMS['val_size'],\n",
    "    random_state=42,\n",
    "    stratify=y_temp\n",
    ")\n",
    "\n",
    "print(f\" Splits créés:\")\n",
    "print(f\"   Train: {X_train.shape} ({len(y_train)/len(y)*100:.1f}%)\")\n",
    "print(f\"   Val:   {X_val.shape} ({len(y_val)/len(y)*100:.1f}%)\")\n",
    "print(f\"   Test:  {X_test.shape} ({len(y_test)/len(y)*100:.1f}%)\")\n",
    "\n",
    "# Vérifier distribution\n",
    "for name, labels in [('Train', y_train), ('Val', y_val), ('Test', y_test)]:\n",
    "    print(f\"\\n   {name}:\")\n",
    "    unique, counts = np.unique(labels, return_counts=True)\n",
    "    for s_id, count in zip(unique, counts):\n",
    "        print(f\"      {STAGE_NAMES[s_id]}: {count}\")"
   ]
  },
  {
   "cell_type": "code",
   "execution_count": 14,
   "id": "7f840031",
   "metadata": {},
   "outputs": [
    {
     "name": "stdout",
     "output_type": "stream",
     "text": [
      "\n",
      " Sauvegarde...\n",
      " Données sauvegardées dans ../data/processed/\n",
      "\n",
      "Fichiers créés:\n",
      "   y_train.npy: 0.0 MB\n",
      "   y_test.npy: 0.0 MB\n",
      "   X_test.npy: 13.3 MB\n",
      "   y_val.npy: 0.0 MB\n",
      "   X_train.npy: 62.0 MB\n",
      "   X_val.npy: 13.2 MB\n"
     ]
    }
   ],
   "source": [
    "# Sauvegarder les données prétraitées\n",
    "output_dir = Path('../data/processed')\n",
    "output_dir.mkdir(parents=True, exist_ok=True)\n",
    "\n",
    "print(\"\\n Sauvegarde...\")\n",
    "\n",
    "np.save(output_dir / 'X_train.npy', X_train)\n",
    "np.save(output_dir / 'X_val.npy', X_val)\n",
    "np.save(output_dir / 'X_test.npy', X_test)\n",
    "np.save(output_dir / 'y_train.npy', y_train)\n",
    "np.save(output_dir / 'y_val.npy', y_val)\n",
    "np.save(output_dir / 'y_test.npy', y_test)\n",
    "\n",
    "# Métadonnées\n",
    "metadata = {\n",
    "    'params': PARAMS,\n",
    "    'stage_names': STAGE_NAMES,\n",
    "    'stage_mapping': STAGE_MAPPING,\n",
    "    'n_classes': len(STAGE_NAMES),\n",
    "    'train_size': len(y_train),\n",
    "    'val_size': len(y_val),\n",
    "    'test_size': len(y_test)\n",
    "}\n",
    "\n",
    "with open(output_dir / 'metadata.pkl', 'wb') as f:\n",
    "    pickle.dump(metadata, f)\n",
    "\n",
    "print(f\" Données sauvegardées dans {output_dir}/\")\n",
    "print(f\"\\nFichiers créés:\")\n",
    "for file in output_dir.glob('*.npy'):\n",
    "    size_mb = file.stat().st_size / 1e6\n",
    "    print(f\"   {file.name}: {size_mb:.1f} MB\")"
   ]
  },
  {
   "cell_type": "code",
   "execution_count": null,
   "id": "cb02b9ed",
   "metadata": {},
   "outputs": [],
   "source": []
  }
 ],
 "metadata": {
  "kernelspec": {
   "display_name": "venv",
   "language": "python",
   "name": "python3"
  },
  "language_info": {
   "codemirror_mode": {
    "name": "ipython",
    "version": 3
   },
   "file_extension": ".py",
   "mimetype": "text/x-python",
   "name": "python",
   "nbconvert_exporter": "python",
   "pygments_lexer": "ipython3",
   "version": "3.10.19"
  }
 },
 "nbformat": 4,
 "nbformat_minor": 5
}
